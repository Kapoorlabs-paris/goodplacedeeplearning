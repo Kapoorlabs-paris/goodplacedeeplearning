{
 "cells": [
  {
   "cell_type": "markdown",
   "id": "b881b1b0",
   "metadata": {},
   "source": [
    "Text classification, the process of categorizing text, is one of the most common tasks in Natural Language Processing (NLP). A text classification task can automatically analyze text and then assign a set of predefined tags or categories based on its context. It is applied in a wide variety of applications, including sentiment analysis, spam filtering, news categorization, and domain/intent detection for dialogue systems."
   ]
  },
  {
   "cell_type": "markdown",
   "id": "d00964ba",
   "metadata": {},
   "source": [
    "bXZtdTFvZTJ2YjQ3aG9rOWFyZ2x2MmYyYWc6OTIyZGU1NzYtMzc3Ni00Y2JlLTlmMTktYzVkZDhmZjA0OTM3"
   ]
  },
  {
   "cell_type": "code",
   "execution_count": null,
   "id": "32f9e132",
   "metadata": {},
   "outputs": [],
   "source": [
    "api_key = \"\""
   ]
  },
  {
   "cell_type": "code",
   "execution_count": null,
   "id": "d9c0bd7b",
   "metadata": {},
   "outputs": [],
   "source": [
    "!docker login -u '$oauthtoken' -p $api_key nvcr.io"
   ]
  },
  {
   "cell_type": "code",
   "execution_count": null,
   "id": "ef8c77d4",
   "metadata": {},
   "outputs": [],
   "source": [
    "%%writefile config\n",
    ";WARNING - This is a machine generated file.  Do not edit manually.\n",
    ";WARNING - To update local config settings, see \"ngc config set -h\"\n",
    "\n",
    "[CURRENT]\n",
    "apikey = MY_NGC_API_KEY\n",
    "format_type = json\n",
    "org = nvidia"
   ]
  },
  {
   "cell_type": "code",
   "execution_count": null,
   "id": "111c4d38",
   "metadata": {},
   "outputs": [],
   "source": [
    "%%bash\n",
    "mkdir -p ~/.ngc\n",
    "mv config ~/.ngc/"
   ]
  },
  {
   "cell_type": "code",
   "execution_count": null,
   "id": "bef62b5a",
   "metadata": {},
   "outputs": [],
   "source": [
    "!ngc registry resource download-version \"nvidia/riva/riva_quickstart:1.7.0-beta\""
   ]
  },
  {
   "cell_type": "code",
   "execution_count": null,
   "id": "d9de045f",
   "metadata": {},
   "outputs": [],
   "source": [
    "!ngc registry model download-version \"nvidia/tao/domainclassification_english_bert:deployable_v1.0\""
   ]
  }
 ],
 "metadata": {
  "kernelspec": {
   "display_name": "Python 3 (ipykernel)",
   "language": "python",
   "name": "python3"
  },
  "language_info": {
   "codemirror_mode": {
    "name": "ipython",
    "version": 3
   },
   "file_extension": ".py",
   "mimetype": "text/x-python",
   "name": "python",
   "nbconvert_exporter": "python",
   "pygments_lexer": "ipython3",
   "version": "3.9.0"
  }
 },
 "nbformat": 4,
 "nbformat_minor": 5
}
