{
 "cells": [
  {
   "cell_type": "markdown",
   "metadata": {},
   "source": [
    "# Predict response to stimuli: lstm for time series"
   ]
  },
  {
   "cell_type": "markdown",
   "metadata": {},
   "source": [
    "In a *lstm timeseries* problem, we aim to predict the response of a stimuli, as a time series data. The input is a stimuli vs time and the output is response vs time curve. Depending on how we train the network the response curve could represent average response to the stimuli from different spatial locations or could represet response form a single spatial location. \n",
    "\n",
    "This notebook builds an LSTM based model to predict the response to external stimuli. To do this, we'll provide the model with timeseries of stimuli and use the return sequences to return an output vector that has the same shape as that of the input time series, the output represents response to the stimuli."
   ]
  },
  {
   "cell_type": "code",
   "execution_count": 1,
   "metadata": {},
   "outputs": [],
   "source": [
    "import keras, tensorflow\n",
    "import numpy as np\n",
    "import pandas as pd\n",
    "import matplotlib.pyplot as plt"
   ]
  },
  {
   "cell_type": "markdown",
   "metadata": {},
   "source": [
    "The input csv file contains N columns of response as tabular data, we load the data from disk and read it to a numpy array"
   ]
  },
  {
   "cell_type": "code",
   "execution_count": 43,
   "metadata": {},
   "outputs": [
    {
     "name": "stdout",
     "output_type": "stream",
     "text": [
      "input data shape (4, 999, 1)\n"
     ]
    }
   ],
   "source": [
    "stimuli_data = pd.read_csv(\"../stimuli_response_data/stimuli.csv\")\n",
    "stimuli_data_tuple = stimuli_data.to_numpy()\n",
    "stimuli_data_array = np.asarray(stimuli_data_tuple)\n",
    "type(stimuli_data_array)\n",
    "\n",
    "stimuli_data_array = np.reshape(stimuli_data_array, (stimuli_data_array.shape[1], stimuli_data_array.shape[0], 1))\n",
    "\n",
    "print(\"input data shape\",stimuli_data_array.shape)\n",
    "input_shape = (stimuli_data_array.shape[1],stimuli_data_array.shape[2])\n",
    "lstm_units = 128"
   ]
  },
  {
   "cell_type": "markdown",
   "metadata": {},
   "source": [
    "The dataset contains 4 colums of the stimuli and the first number represents the number of timepoints present in the data"
   ]
  },
  {
   "cell_type": "markdown",
   "metadata": {},
   "source": []
  },
  {
   "cell_type": "code",
   "execution_count": 44,
   "metadata": {},
   "outputs": [
    {
     "name": "stdout",
     "output_type": "stream",
     "text": [
      "Model: \"model_2\"\n",
      "_________________________________________________________________\n",
      " Layer (type)                Output Shape              Param #   \n",
      "=================================================================\n",
      " input_4 (InputLayer)        [(None, 999, 1)]          0         \n",
      "                                                                 \n",
      " lstm_8 (LSTM)               (None, 999, 128)          66560     \n",
      "                                                                 \n",
      " lstm_9 (LSTM)               (None, 999, 64)           49408     \n",
      "                                                                 \n",
      " lstm_10 (LSTM)              (None, 999, 32)           12416     \n",
      "                                                                 \n",
      " lstm_11 (LSTM)              (None, 999, 1)            136       \n",
      "                                                                 \n",
      "=================================================================\n",
      "Total params: 128,520\n",
      "Trainable params: 128,520\n",
      "Non-trainable params: 0\n",
      "_________________________________________________________________\n"
     ]
    },
    {
     "name": "stderr",
     "output_type": "stream",
     "text": [
      "c:\\Users\\rando\\anaconda3\\envs\\naparienv\\lib\\site-packages\\keras\\optimizers\\optimizer_v2\\adam.py:110: UserWarning: The `lr` argument is deprecated, use `learning_rate` instead.\n",
      "  super(Adam, self).__init__(name, **kwargs)\n"
     ]
    }
   ],
   "source": [
    "from keras import layers, models\n",
    "from keras.layers import LSTM, Conv1D, Dense\n",
    "img_input = layers.Input(shape = input_shape)\n",
    "x = (LSTM(lstm_units, return_sequences=True))(img_input)\n",
    "x = (LSTM(lstm_units//2, return_sequences=True))(x)\n",
    "x = (LSTM(lstm_units//4, return_sequences=True))(x)\n",
    "x = (LSTM(1, return_sequences=True))(x)\n",
    "outputs = x\n",
    "model = models.Model(img_input, outputs)\n",
    "opt = keras.optimizers.Adam(lr=0.001)\n",
    "\n",
    "model.compile(loss='mse',\n",
    "              optimizer=opt,\n",
    "              metrics=['accuracy'])\n",
    "model.summary()"
   ]
  },
  {
   "cell_type": "markdown",
   "metadata": {},
   "source": [
    "Now let us plot the network graph using keras plot_model"
   ]
  },
  {
   "cell_type": "code",
   "execution_count": 45,
   "metadata": {},
   "outputs": [
    {
     "name": "stdout",
     "output_type": "stream",
     "text": [
      "<IPython.core.display.Image object>\n"
     ]
    },
    {
     "data": {
      "image/png": "[encoded data removed]",
      "text/plain": [
       "<IPython.core.display.Image object>"
      ]
     },
     "execution_count": 45,
     "metadata": {},
     "output_type": "execute_result"
    }
   ],
   "source": [
    "from keras.utils import plot_model\n",
    "\n",
    "model_inline = plot_model(model, to_file = './model_time_series.png', \n",
    "show_shapes = True, show_layer_names=True)\n",
    "\n",
    "print(model_inline)\n",
    "model_inline"
   ]
  },
  {
   "cell_type": "code",
   "execution_count": null,
   "metadata": {},
   "outputs": [],
   "source": []
  }
 ],
 "metadata": {
  "kernelspec": {
   "display_name": "Python 3.9.0 ('naparienv')",
   "language": "python",
   "name": "python3"
  },
  "language_info": {
   "codemirror_mode": {
    "name": "ipython",
    "version": 3
   },
   "file_extension": ".py",
   "mimetype": "text/x-python",
   "name": "python",
   "nbconvert_exporter": "python",
   "pygments_lexer": "ipython3",
   "version": "3.9.0"
  },
  "orig_nbformat": 4,
  "vscode": {
   "interpreter": {
    "hash": "e140276ae15c1be7b597ddfede76c3757c35dc6a4240f18994000df39384733e"
   }
  }
 },
 "nbformat": 4,
 "nbformat_minor": 2
}
