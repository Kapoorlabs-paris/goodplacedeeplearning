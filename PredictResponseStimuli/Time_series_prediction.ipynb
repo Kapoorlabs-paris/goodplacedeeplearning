{
 "cells": [
  {
   "cell_type": "markdown",
   "metadata": {},
   "source": [
    "# Predict response to stimuli: lstm for time series"
   ]
  },
  {
   "cell_type": "markdown",
   "metadata": {},
   "source": [
    "In a *lstm timeseries* problem, we aim to predict the response of a stimuli, as a time series data. The input is a stimuli vs time and the output is response vs time curve. Depending on how we train the network the response curve could represent average response to the stimuli from different spatial locations or could represet response form a single spatial location. \n",
    "\n",
    "This notebook builds an LSTM based model to predict the response to external stimuli. To do this, we'll provide the model with timeseries of stimuli and use the return sequences to return an output vector that has the same shape as that of the input time series, the output represents response to the stimuli."
   ]
  },
  {
   "cell_type": "code",
   "execution_count": 103,
   "metadata": {},
   "outputs": [],
   "source": [
    "import keras, tensorflow\n",
    "import numpy as np\n",
    "import pandas as pd\n",
    "import matplotlib.pyplot as plt"
   ]
  },
  {
   "cell_type": "markdown",
   "metadata": {},
   "source": [
    "The input csv file contains N columns of response as tabular data, we load the data from disk and read it to a numpy array"
   ]
  },
  {
   "cell_type": "code",
   "execution_count": 104,
   "metadata": {},
   "outputs": [
    {
     "name": "stdout",
     "output_type": "stream",
     "text": [
      "input data shape (4, 999, 1)\n"
     ]
    }
   ],
   "source": [
    "stimuli_data = pd.read_csv(\"../stimuli_response_data/stimuli.csv\")\n",
    "stimuli_data_tuple = stimuli_data.to_numpy()\n",
    "stimuli_data_array = np.asarray(stimuli_data_tuple)\n",
    "type(stimuli_data_array)\n",
    "\n",
    "stimuli_data_array = np.reshape(stimuli_data_array, (stimuli_data_array.shape[1], stimuli_data_array.shape[0], 1))\n",
    "\n",
    "print(\"input data shape\",stimuli_data_array.shape)\n",
    "for i in range(stimuli_data_array.shape[0]):\n",
    "    mean, std = stimuli_data_array[i,:,:].mean(axis = 0), stimuli_data_array[i,:,:].std(axis = 0)\n",
    "    \n",
    "    stimuli_data_array[i,:,:] = ( stimuli_data_array[i,:,:] - mean ) / std\n"
   ]
  },
  {
   "cell_type": "code",
   "execution_count": 112,
   "metadata": {},
   "outputs": [],
   "source": [
    "input_shape = (stimuli_data_array.shape[1],stimuli_data_array.shape[2])\n",
    "lstm_units = 128\n",
    "learning_rate = 0.001\n",
    "epochs = 10\n",
    "batch_size = 4\n",
    "validation_split = 0.1"
   ]
  },
  {
   "cell_type": "markdown",
   "metadata": {},
   "source": [
    "Now we create the ground truth data which are responses from specific locations that correspond to the stimuli"
   ]
  },
  {
   "cell_type": "code",
   "execution_count": 106,
   "metadata": {},
   "outputs": [],
   "source": [
    "response_data = pd.read_csv(\"../stimuli_response_data/stimuli.csv\")\n",
    "response_data_tuple = response_data.to_numpy()\n",
    "response_data_array = np.asarray(response_data_tuple)\n",
    "type(response_data_array)\n",
    "response_data_array = np.reshape(response_data_array, (response_data_array.shape[1], response_data_array.shape[0], 1))\n",
    "for i in range(response_data_array.shape[0]):\n",
    "    mean, std = response_data_array[i,:,:].mean(axis = 0), response_data_array[i,:,:].std(axis = 0)\n",
    "    response_data_array[i,:,:] = ( response_data_array[i,:,:] - mean ) / std"
   ]
  },
  {
   "cell_type": "markdown",
   "metadata": {},
   "source": [
    "The dataset contains 4 colums of the stimuli and the first number represents the number of timepoints present in the data"
   ]
  },
  {
   "cell_type": "markdown",
   "metadata": {},
   "source": []
  },
  {
   "cell_type": "code",
   "execution_count": 110,
   "metadata": {},
   "outputs": [
    {
     "name": "stdout",
     "output_type": "stream",
     "text": [
      "Model: \"model_17\"\n",
      "_________________________________________________________________\n",
      " Layer (type)                Output Shape              Param #   \n",
      "=================================================================\n",
      " input_19 (InputLayer)       [(None, 999, 1)]          0         \n",
      "                                                                 \n",
      " lstm_80 (LSTM)              (None, 999, 128)          66560     \n",
      "                                                                 \n",
      " lstm_81 (LSTM)              (None, 999, 64)           49408     \n",
      "                                                                 \n",
      " lstm_82 (LSTM)              (None, 999, 32)           12416     \n",
      "                                                                 \n",
      " lstm_83 (LSTM)              (None, 999, 16)           3136      \n",
      "                                                                 \n",
      " lstm_84 (LSTM)              (None, 999, 8)            800       \n",
      "                                                                 \n",
      " dense_6 (Dense)             (None, 999, 1)            9         \n",
      "                                                                 \n",
      "=================================================================\n",
      "Total params: 132,329\n",
      "Trainable params: 132,329\n",
      "Non-trainable params: 0\n",
      "_________________________________________________________________\n"
     ]
    }
   ],
   "source": [
    "from keras import layers, models\n",
    "from keras.layers import LSTM, Conv1D, Dense\n",
    "img_input = layers.Input(shape = input_shape)\n",
    "x = (LSTM(lstm_units, return_sequences=True))(img_input)\n",
    "x = (LSTM(lstm_units//2, return_sequences=True))(x)\n",
    "x = (LSTM(lstm_units//4, return_sequences=True))(x)\n",
    "x = (LSTM(lstm_units//8, return_sequences=True))(x)\n",
    "x = (LSTM(lstm_units//16, return_sequences=True))(x)\n",
    "\n",
    "x = Dense(1, activation= 'linear')(x)\n",
    "outputs = x\n",
    "model = models.Model(img_input, outputs)\n",
    "opt = keras.optimizers.RMSprop(lr=learning_rate)\n",
    "\n",
    "model.compile(loss='mse',\n",
    "              optimizer=opt,\n",
    "              \n",
    "              metrics=['accuracy'])\n",
    "model.summary()"
   ]
  },
  {
   "cell_type": "markdown",
   "metadata": {},
   "source": [
    "Now let us plot the network graph using keras plot_model"
   ]
  },
  {
   "cell_type": "code",
   "execution_count": 108,
   "metadata": {},
   "outputs": [
    {
     "name": "stdout",
     "output_type": "stream",
     "text": [
      "<IPython.core.display.Image object>\n"
     ]
    },
    {
     "data": {
      "image/png": "[encoded data removed]",
      "text/plain": [
       "<IPython.core.display.Image object>"
      ]
     },
     "execution_count": 108,
     "metadata": {},
     "output_type": "execute_result"
    }
   ],
   "source": [
    "from keras.utils import plot_model\n",
    "\n",
    "model_inline = plot_model(model, to_file = './model_time_series.png', \n",
    "show_shapes = True, show_layer_names=True)\n",
    "\n",
    "print(model_inline)\n",
    "model_inline"
   ]
  },
  {
   "cell_type": "markdown",
   "metadata": {},
   "source": [
    "Now let us start the model training by first defining some parameters like epochs, validation_split, keras callbacks etc"
   ]
  },
  {
   "cell_type": "code",
   "execution_count": 113,
   "metadata": {},
   "outputs": [
    {
     "name": "stdout",
     "output_type": "stream",
     "text": [
      "Epoch 1/10\n",
      "1/1 [==============================] - 1s 608ms/step - loss: 1.0000 - accuracy: 0.0000e+00 - val_loss: 1.0000 - val_accuracy: 0.0000e+00\n",
      "Epoch 2/10\n",
      "1/1 [==============================] - 0s 398ms/step - loss: 1.0000 - accuracy: 0.0000e+00 - val_loss: 1.0000 - val_accuracy: 0.0000e+00\n",
      "Epoch 3/10\n",
      "1/1 [==============================] - 0s 332ms/step - loss: 1.0000 - accuracy: 0.0000e+00 - val_loss: 1.0000 - val_accuracy: 0.0000e+00\n",
      "Epoch 4/10\n",
      "1/1 [==============================] - 0s 331ms/step - loss: 1.0000 - accuracy: 0.0000e+00 - val_loss: 1.0000 - val_accuracy: 0.0000e+00\n",
      "Epoch 5/10\n",
      "1/1 [==============================] - 0s 345ms/step - loss: 1.0000 - accuracy: 0.0000e+00 - val_loss: 1.0000 - val_accuracy: 0.0000e+00\n",
      "Epoch 6/10\n",
      "1/1 [==============================] - 0s 337ms/step - loss: 1.0000 - accuracy: 0.0000e+00 - val_loss: 1.0000 - val_accuracy: 0.0000e+00\n",
      "Epoch 7/10\n",
      "1/1 [==============================] - 0s 388ms/step - loss: 1.0000 - accuracy: 0.0000e+00 - val_loss: 1.0000 - val_accuracy: 0.0000e+00\n",
      "Epoch 8/10\n",
      "1/1 [==============================] - 0s 342ms/step - loss: 1.0000 - accuracy: 0.0000e+00 - val_loss: 1.0000 - val_accuracy: 0.0000e+00\n",
      "Epoch 9/10\n",
      "1/1 [==============================] - 0s 315ms/step - loss: 1.0000 - accuracy: 0.0000e+00 - val_loss: 1.0000 - val_accuracy: 0.0000e+00\n",
      "Epoch 10/10\n",
      "1/1 [==============================] - 0s 367ms/step - loss: 1.0000 - accuracy: 0.0000e+00 - val_loss: 1.0001 - val_accuracy: 0.0000e+00\n"
     ]
    },
    {
     "data": {
      "text/plain": [
       "<keras.callbacks.History at 0x2b01a6ef820>"
      ]
     },
     "execution_count": 113,
     "metadata": {},
     "output_type": "execute_result"
    }
   ],
   "source": [
    "\n",
    "model.fit(stimuli_data_array, response_data_array,\n",
    "              batch_size=batch_size,\n",
    "              epochs=epochs,\n",
    "              validation_split= validation_split,\n",
    "              shuffle=True)"
   ]
  },
  {
   "cell_type": "code",
   "execution_count": null,
   "metadata": {},
   "outputs": [],
   "source": []
  }
 ],
 "metadata": {
  "kernelspec": {
   "display_name": "Python 3.9.0 ('naparienv')",
   "language": "python",
   "name": "python3"
  },
  "language_info": {
   "codemirror_mode": {
    "name": "ipython",
    "version": 3
   },
   "file_extension": ".py",
   "mimetype": "text/x-python",
   "name": "python",
   "nbconvert_exporter": "python",
   "pygments_lexer": "ipython3",
   "version": "3.9.0"
  },
  "orig_nbformat": 4,
  "vscode": {
   "interpreter": {
    "hash": "e140276ae15c1be7b597ddfede76c3757c35dc6a4240f18994000df39384733e"
   }
  }
 },
 "nbformat": 4,
 "nbformat_minor": 2
}
