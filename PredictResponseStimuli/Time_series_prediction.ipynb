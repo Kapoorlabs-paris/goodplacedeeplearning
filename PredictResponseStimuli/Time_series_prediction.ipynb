{
 "cells": [
  {
   "cell_type": "markdown",
   "metadata": {},
   "source": [
    "# Predict response to stimuli: lstm for time series"
   ]
  },
  {
   "cell_type": "markdown",
   "metadata": {},
   "source": [
    "In a *lstm timeseries* problem, we aim to predict the response of a stimuli, as a time series data. The input is a stimuli vs time and the output is response vs time curve. Depending on how we train the network the response curve could represent average response to the stimuli from different spatial locations or could represet response form a single spatial location. \n",
    "\n",
    "This notebook builds an LSTM based model to predict the response to external stimuli. To do this, we'll provide the model with timeseries of stimuli and use the return sequences to return an output vector that has the same shape as that of the input time series, the output represents response to the stimuli."
   ]
  },
  {
   "cell_type": "code",
   "execution_count": 141,
   "metadata": {},
   "outputs": [],
   "source": [
    "import keras, tensorflow\n",
    "import numpy as np\n",
    "import pandas as pd\n",
    "import matplotlib.pyplot as plt"
   ]
  },
  {
   "cell_type": "markdown",
   "metadata": {},
   "source": [
    "The input csv file contains N columns of response as tabular data, we load the data from disk and read it to a numpy array"
   ]
  },
  {
   "cell_type": "code",
   "execution_count": 148,
   "metadata": {},
   "outputs": [
    {
     "name": "stdout",
     "output_type": "stream",
     "text": [
      "input data shape (4, 999, 1)\n"
     ]
    }
   ],
   "source": [
    "stimuli_data = pd.read_csv(\"../stimuli_response_data/stimuli.csv\")\n",
    "stimuli_data_tuple = stimuli_data.to_numpy()\n",
    "stimuli_data_array = np.asarray(stimuli_data_tuple)\n",
    "type(stimuli_data_array)\n",
    "\n",
    "stimuli_data_array = np.reshape(stimuli_data_array, (stimuli_data_array.shape[1], stimuli_data_array.shape[0], 1))\n",
    "\n",
    "print(\"input data shape\",stimuli_data_array.shape)\n",
    "for i in range(stimuli_data_array.shape[0]):\n",
    "    mean, std = stimuli_data_array[i,:,:].mean(axis = 0), stimuli_data_array[i,:,:].std(axis = 0)\n",
    "    \n",
    "    stimuli_data_array[i,:,:] = ( stimuli_data_array[i,:,:] - mean ) / std\n"
   ]
  },
  {
   "cell_type": "code",
   "execution_count": 149,
   "metadata": {},
   "outputs": [],
   "source": [
    "input_shape = (stimuli_data_array.shape[1],stimuli_data_array.shape[2])\n",
    "lstm_units = 16\n",
    "learning_rate = 0.01\n",
    "epochs = 150\n",
    "batch_size = 4\n",
    "validation_split = 0.1"
   ]
  },
  {
   "cell_type": "markdown",
   "metadata": {},
   "source": [
    "Now we create the ground truth data which are responses from specific locations that correspond to the stimuli"
   ]
  },
  {
   "cell_type": "code",
   "execution_count": 164,
   "metadata": {},
   "outputs": [],
   "source": [
    "response_data = pd.read_csv(\"../stimuli_response_data/stimuli.csv\")\n",
    "response_data_tuple = response_data.to_numpy()\n",
    "response_data_array = np.asarray(response_data_tuple)\n",
    "type(response_data_array)\n",
    "response_data_array = np.reshape(response_data_array, (response_data_array.shape[1], response_data_array.shape[0]))\n"
   ]
  },
  {
   "cell_type": "markdown",
   "metadata": {},
   "source": [
    "The dataset contains 4 colums of the stimuli and the first number represents the number of timepoints present in the data"
   ]
  },
  {
   "cell_type": "markdown",
   "metadata": {},
   "source": []
  },
  {
   "cell_type": "code",
   "execution_count": 165,
   "metadata": {},
   "outputs": [
    {
     "name": "stdout",
     "output_type": "stream",
     "text": [
      "Model: \"model_25\"\n",
      "_________________________________________________________________\n",
      " Layer (type)                Output Shape              Param #   \n",
      "=================================================================\n",
      " input_30 (InputLayer)       [(None, 999, 1)]          0         \n",
      "                                                                 \n",
      " lstm_94 (LSTM)              (None, 999, 16)           1152      \n",
      "                                                                 \n",
      " dense_14 (Dense)            (None, 999, 1)            17        \n",
      "                                                                 \n",
      "=================================================================\n",
      "Total params: 1,169\n",
      "Trainable params: 1,169\n",
      "Non-trainable params: 0\n",
      "_________________________________________________________________\n"
     ]
    },
    {
     "name": "stderr",
     "output_type": "stream",
     "text": [
      "c:\\Users\\rando\\anaconda3\\envs\\naparienv\\lib\\site-packages\\keras\\optimizers\\optimizer_v2\\rmsprop.py:135: UserWarning: The `lr` argument is deprecated, use `learning_rate` instead.\n",
      "  super(RMSprop, self).__init__(name, **kwargs)\n"
     ]
    }
   ],
   "source": [
    "from keras import layers, models\n",
    "from keras.layers import ConvLSTM1D, LSTM, Conv1D, Dense, Bidirectional\n",
    "img_input = layers.Input(shape = input_shape)\n",
    "x = (LSTM(lstm_units, return_sequences=True))(img_input)\n",
    "\n",
    "\n",
    "x = Dense(1, activation= 'linear')(x)\n",
    "outputs = x\n",
    "model = models.Model(img_input, outputs)\n",
    "opt = keras.optimizers.RMSprop(lr=learning_rate)\n",
    "\n",
    "model.compile(loss='mse',\n",
    "              optimizer=opt, metrics = ['mae'])\n",
    "model.summary()"
   ]
  },
  {
   "cell_type": "markdown",
   "metadata": {},
   "source": [
    "Now let us plot the network graph using keras plot_model"
   ]
  },
  {
   "cell_type": "code",
   "execution_count": 166,
   "metadata": {},
   "outputs": [
    {
     "name": "stdout",
     "output_type": "stream",
     "text": [
      "<IPython.core.display.Image object>\n"
     ]
    },
    {
     "data": {
      "image/png": "[encoded data removed]",
      "text/plain": [
       "<IPython.core.display.Image object>"
      ]
     },
     "execution_count": 166,
     "metadata": {},
     "output_type": "execute_result"
    }
   ],
   "source": [
    "from keras.utils import plot_model\n",
    "\n",
    "model_inline = plot_model(model, to_file = './model_time_series.png', \n",
    "show_shapes = True, show_layer_names=True)\n",
    "\n",
    "print(model_inline)\n",
    "model_inline"
   ]
  },
  {
   "cell_type": "markdown",
   "metadata": {},
   "source": [
    "Now let us start the model training by first defining some parameters like epochs, validation_split, keras callbacks etc"
   ]
  },
  {
   "cell_type": "code",
   "execution_count": 170,
   "metadata": {},
   "outputs": [
    {
     "name": "stdout",
     "output_type": "stream",
     "text": [
      "Epoch 1/150\n",
      "1/1 [==============================] - 0s 240ms/step - loss: 0.0018 - mae: 0.0375 - val_loss: 0.0040 - val_mae: 0.0625\n",
      "Epoch 2/150\n",
      "1/1 [==============================] - 0s 101ms/step - loss: 0.0017 - mae: 0.0358 - val_loss: 2.8362e-04 - val_mae: 0.0124\n",
      "Epoch 3/150\n",
      "1/1 [==============================] - 0s 90ms/step - loss: 0.0018 - mae: 0.0369 - val_loss: 0.0034 - val_mae: 0.0575\n",
      "Epoch 4/150\n",
      "1/1 [==============================] - 0s 77ms/step - loss: 0.0013 - mae: 0.0312 - val_loss: 1.8194e-04 - val_mae: 0.0081\n",
      "Epoch 5/150\n",
      "1/1 [==============================] - 0s 109ms/step - loss: 0.0013 - mae: 0.0301 - val_loss: 0.0028 - val_mae: 0.0519\n",
      "Epoch 6/150\n",
      "1/1 [==============================] - 0s 81ms/step - loss: 0.0010 - mae: 0.0272 - val_loss: 2.1564e-04 - val_mae: 0.0088\n",
      "Epoch 7/150\n",
      "1/1 [==============================] - 0s 94ms/step - loss: 0.0011 - mae: 0.0269 - val_loss: 0.0028 - val_mae: 0.0502\n",
      "Epoch 8/150\n",
      "1/1 [==============================] - 0s 102ms/step - loss: 0.0011 - mae: 0.0275 - val_loss: 4.2971e-04 - val_mae: 0.0152\n",
      "Epoch 9/150\n",
      "1/1 [==============================] - 0s 86ms/step - loss: 0.0013 - mae: 0.0290 - val_loss: 0.0032 - val_mae: 0.0511\n",
      "Epoch 10/150\n",
      "1/1 [==============================] - 0s 86ms/step - loss: 0.0014 - mae: 0.0307 - val_loss: 7.1180e-04 - val_mae: 0.0209\n",
      "Epoch 11/150\n",
      "1/1 [==============================] - 0s 93ms/step - loss: 0.0017 - mae: 0.0322 - val_loss: 0.0032 - val_mae: 0.0520\n",
      "Epoch 12/150\n",
      "1/1 [==============================] - 0s 122ms/step - loss: 0.0014 - mae: 0.0306 - val_loss: 4.0405e-04 - val_mae: 0.0140\n",
      "Epoch 13/150\n",
      "1/1 [==============================] - 0s 135ms/step - loss: 0.0014 - mae: 0.0305 - val_loss: 0.0033 - val_mae: 0.0559\n",
      "Epoch 14/150\n",
      "1/1 [==============================] - 0s 122ms/step - loss: 0.0013 - mae: 0.0311 - val_loss: 2.4095e-04 - val_mae: 0.0104\n",
      "Epoch 15/150\n",
      "1/1 [==============================] - 0s 107ms/step - loss: 0.0016 - mae: 0.0343 - val_loss: 0.0038 - val_mae: 0.0607\n",
      "Epoch 16/150\n",
      "1/1 [==============================] - 0s 92ms/step - loss: 0.0015 - mae: 0.0341 - val_loss: 2.5914e-04 - val_mae: 0.0119\n",
      "Epoch 17/150\n",
      "1/1 [==============================] - 0s 121ms/step - loss: 0.0017 - mae: 0.0364 - val_loss: 0.0035 - val_mae: 0.0582\n",
      "Epoch 18/150\n",
      "1/1 [==============================] - 0s 114ms/step - loss: 0.0014 - mae: 0.0319 - val_loss: 1.8353e-04 - val_mae: 0.0089\n",
      "Epoch 19/150\n",
      "1/1 [==============================] - 0s 96ms/step - loss: 0.0013 - mae: 0.0307 - val_loss: 0.0028 - val_mae: 0.0520\n",
      "Epoch 20/150\n",
      "1/1 [==============================] - 0s 92ms/step - loss: 0.0010 - mae: 0.0269 - val_loss: 1.7632e-04 - val_mae: 0.0080\n",
      "Epoch 21/150\n",
      "1/1 [==============================] - 0s 90ms/step - loss: 0.0010 - mae: 0.0257 - val_loss: 0.0025 - val_mae: 0.0489\n",
      "Epoch 22/150\n",
      "1/1 [==============================] - 0s 131ms/step - loss: 9.1654e-04 - mae: 0.0255 - val_loss: 2.5579e-04 - val_mae: 0.0107\n",
      "Epoch 23/150\n",
      "1/1 [==============================] - 0s 97ms/step - loss: 0.0010 - mae: 0.0258 - val_loss: 0.0028 - val_mae: 0.0493\n",
      "Epoch 24/150\n",
      "1/1 [==============================] - 0s 115ms/step - loss: 0.0011 - mae: 0.0278 - val_loss: 5.2743e-04 - val_mae: 0.0176\n",
      "Epoch 25/150\n",
      "1/1 [==============================] - 0s 99ms/step - loss: 0.0014 - mae: 0.0300 - val_loss: 0.0031 - val_mae: 0.0507\n",
      "Epoch 26/150\n",
      "1/1 [==============================] - 0s 117ms/step - loss: 0.0014 - mae: 0.0306 - val_loss: 6.0535e-04 - val_mae: 0.0192\n",
      "Epoch 27/150\n",
      "1/1 [==============================] - 0s 97ms/step - loss: 0.0016 - mae: 0.0312 - val_loss: 0.0031 - val_mae: 0.0522\n",
      "Epoch 28/150\n",
      "1/1 [==============================] - 0s 102ms/step - loss: 0.0013 - mae: 0.0300 - val_loss: 2.9702e-04 - val_mae: 0.0113\n",
      "Epoch 29/150\n",
      "1/1 [==============================] - 0s 97ms/step - loss: 0.0013 - mae: 0.0300 - val_loss: 0.0033 - val_mae: 0.0562\n",
      "Epoch 30/150\n",
      "1/1 [==============================] - 0s 101ms/step - loss: 0.0013 - mae: 0.0309 - val_loss: 2.2988e-04 - val_mae: 0.0106\n",
      "Epoch 31/150\n",
      "1/1 [==============================] - 0s 98ms/step - loss: 0.0015 - mae: 0.0339 - val_loss: 0.0036 - val_mae: 0.0588\n",
      "Epoch 32/150\n",
      "1/1 [==============================] - 0s 110ms/step - loss: 0.0014 - mae: 0.0323 - val_loss: 2.0274e-04 - val_mae: 0.0102\n",
      "Epoch 33/150\n",
      "1/1 [==============================] - 0s 100ms/step - loss: 0.0014 - mae: 0.0324 - val_loss: 0.0030 - val_mae: 0.0540\n",
      "Epoch 34/150\n",
      "1/1 [==============================] - 0s 95ms/step - loss: 0.0011 - mae: 0.0283 - val_loss: 1.5656e-04 - val_mae: 0.0076\n",
      "Epoch 35/150\n",
      "1/1 [==============================] - 0s 97ms/step - loss: 0.0011 - mae: 0.0271 - val_loss: 0.0026 - val_mae: 0.0497\n",
      "Epoch 36/150\n",
      "1/1 [==============================] - 0s 93ms/step - loss: 9.1217e-04 - mae: 0.0250 - val_loss: 1.8592e-04 - val_mae: 0.0086\n",
      "Epoch 37/150\n",
      "1/1 [==============================] - 0s 114ms/step - loss: 9.3105e-04 - mae: 0.0245 - val_loss: 0.0024 - val_mae: 0.0477\n",
      "Epoch 38/150\n",
      "1/1 [==============================] - 0s 88ms/step - loss: 8.6758e-04 - mae: 0.0246 - val_loss: 2.5763e-04 - val_mae: 0.0110\n",
      "Epoch 39/150\n",
      "1/1 [==============================] - 0s 84ms/step - loss: 0.0010 - mae: 0.0256 - val_loss: 0.0028 - val_mae: 0.0492\n",
      "Epoch 40/150\n",
      "1/1 [==============================] - 0s 88ms/step - loss: 0.0011 - mae: 0.0278 - val_loss: 5.6836e-04 - val_mae: 0.0186\n",
      "Epoch 41/150\n",
      "1/1 [==============================] - 0s 100ms/step - loss: 0.0015 - mae: 0.0307 - val_loss: 0.0032 - val_mae: 0.0509\n",
      "Epoch 42/150\n",
      "1/1 [==============================] - 0s 94ms/step - loss: 0.0015 - mae: 0.0311 - val_loss: 6.2971e-04 - val_mae: 0.0194\n",
      "Epoch 43/150\n",
      "1/1 [==============================] - 0s 93ms/step - loss: 0.0016 - mae: 0.0314 - val_loss: 0.0031 - val_mae: 0.0537\n",
      "Epoch 44/150\n",
      "1/1 [==============================] - 0s 83ms/step - loss: 0.0013 - mae: 0.0303 - val_loss: 2.6362e-04 - val_mae: 0.0101\n",
      "Epoch 45/150\n",
      "1/1 [==============================] - 0s 82ms/step - loss: 0.0014 - mae: 0.0306 - val_loss: 0.0032 - val_mae: 0.0555\n",
      "Epoch 46/150\n",
      "1/1 [==============================] - 0s 114ms/step - loss: 0.0012 - mae: 0.0302 - val_loss: 2.2500e-04 - val_mae: 0.0108\n",
      "Epoch 47/150\n",
      "1/1 [==============================] - 0s 84ms/step - loss: 0.0014 - mae: 0.0314 - val_loss: 0.0032 - val_mae: 0.0557\n",
      "Epoch 48/150\n",
      "1/1 [==============================] - 0s 94ms/step - loss: 0.0012 - mae: 0.0297 - val_loss: 1.5316e-04 - val_mae: 0.0083\n",
      "Epoch 49/150\n",
      "1/1 [==============================] - 0s 83ms/step - loss: 0.0012 - mae: 0.0290 - val_loss: 0.0027 - val_mae: 0.0512\n",
      "Epoch 50/150\n",
      "1/1 [==============================] - 0s 97ms/step - loss: 9.7081e-04 - mae: 0.0261 - val_loss: 1.7080e-04 - val_mae: 0.0084\n",
      "Epoch 51/150\n",
      "1/1 [==============================] - 0s 88ms/step - loss: 9.7655e-04 - mae: 0.0252 - val_loss: 0.0025 - val_mae: 0.0479\n",
      "Epoch 52/150\n",
      "1/1 [==============================] - 0s 83ms/step - loss: 8.5709e-04 - mae: 0.0241 - val_loss: 2.1303e-04 - val_mae: 0.0098\n",
      "Epoch 53/150\n",
      "1/1 [==============================] - 0s 93ms/step - loss: 8.9504e-04 - mae: 0.0239 - val_loss: 0.0024 - val_mae: 0.0466\n",
      "Epoch 54/150\n",
      "1/1 [==============================] - 0s 98ms/step - loss: 8.3953e-04 - mae: 0.0241 - val_loss: 2.8341e-04 - val_mae: 0.0120\n",
      "Epoch 55/150\n",
      "1/1 [==============================] - 0s 81ms/step - loss: 9.7786e-04 - mae: 0.0254 - val_loss: 0.0027 - val_mae: 0.0481\n",
      "Epoch 56/150\n",
      "1/1 [==============================] - 0s 82ms/step - loss: 0.0011 - mae: 0.0274 - val_loss: 5.6337e-04 - val_mae: 0.0187\n",
      "Epoch 57/150\n",
      "1/1 [==============================] - 0s 99ms/step - loss: 0.0014 - mae: 0.0302 - val_loss: 0.0031 - val_mae: 0.0500\n",
      "Epoch 58/150\n",
      "1/1 [==============================] - 0s 102ms/step - loss: 0.0014 - mae: 0.0303 - val_loss: 5.6834e-04 - val_mae: 0.0186\n",
      "Epoch 59/150\n",
      "1/1 [==============================] - 0s 87ms/step - loss: 0.0015 - mae: 0.0300 - val_loss: 0.0030 - val_mae: 0.0521\n",
      "Epoch 60/150\n",
      "1/1 [==============================] - 0s 85ms/step - loss: 0.0012 - mae: 0.0291 - val_loss: 2.5447e-04 - val_mae: 0.0104\n",
      "Epoch 61/150\n",
      "1/1 [==============================] - 0s 84ms/step - loss: 0.0013 - mae: 0.0292 - val_loss: 0.0031 - val_mae: 0.0546\n",
      "Epoch 62/150\n",
      "1/1 [==============================] - 0s 106ms/step - loss: 0.0012 - mae: 0.0295 - val_loss: 2.2431e-04 - val_mae: 0.0110\n",
      "Epoch 63/150\n",
      "1/1 [==============================] - 0s 80ms/step - loss: 0.0013 - mae: 0.0302 - val_loss: 0.0030 - val_mae: 0.0539\n",
      "Epoch 64/150\n",
      "1/1 [==============================] - 0s 96ms/step - loss: 0.0011 - mae: 0.0283 - val_loss: 1.4653e-04 - val_mae: 0.0083\n",
      "Epoch 65/150\n",
      "1/1 [==============================] - 0s 89ms/step - loss: 0.0011 - mae: 0.0272 - val_loss: 0.0026 - val_mae: 0.0502\n",
      "Epoch 66/150\n",
      "1/1 [==============================] - 0s 120ms/step - loss: 9.1768e-04 - mae: 0.0253 - val_loss: 1.7198e-04 - val_mae: 0.0087\n",
      "Epoch 67/150\n",
      "1/1 [==============================] - 0s 100ms/step - loss: 9.6010e-04 - mae: 0.0250 - val_loss: 0.0025 - val_mae: 0.0480\n",
      "Epoch 68/150\n",
      "1/1 [==============================] - 0s 110ms/step - loss: 8.8100e-04 - mae: 0.0245 - val_loss: 2.3408e-04 - val_mae: 0.0106\n",
      "Epoch 69/150\n",
      "1/1 [==============================] - 0s 130ms/step - loss: 9.2512e-04 - mae: 0.0245 - val_loss: 0.0024 - val_mae: 0.0463\n",
      "Epoch 70/150\n",
      "1/1 [==============================] - 0s 126ms/step - loss: 8.4025e-04 - mae: 0.0241 - val_loss: 3.0097e-04 - val_mae: 0.0125\n",
      "Epoch 71/150\n",
      "1/1 [==============================] - 0s 106ms/step - loss: 9.6385e-04 - mae: 0.0252 - val_loss: 0.0026 - val_mae: 0.0471\n",
      "Epoch 72/150\n",
      "1/1 [==============================] - 0s 106ms/step - loss: 0.0010 - mae: 0.0269 - val_loss: 5.6655e-04 - val_mae: 0.0190\n",
      "Epoch 73/150\n",
      "1/1 [==============================] - 0s 104ms/step - loss: 0.0013 - mae: 0.0293 - val_loss: 0.0029 - val_mae: 0.0485\n",
      "Epoch 74/150\n",
      "1/1 [==============================] - 0s 100ms/step - loss: 0.0013 - mae: 0.0291 - val_loss: 5.3566e-04 - val_mae: 0.0184\n",
      "Epoch 75/150\n",
      "1/1 [==============================] - 0s 95ms/step - loss: 0.0014 - mae: 0.0287 - val_loss: 0.0028 - val_mae: 0.0509\n",
      "Epoch 76/150\n",
      "1/1 [==============================] - 0s 100ms/step - loss: 0.0011 - mae: 0.0281 - val_loss: 2.6007e-04 - val_mae: 0.0111\n",
      "Epoch 77/150\n",
      "1/1 [==============================] - 0s 83ms/step - loss: 0.0012 - mae: 0.0280 - val_loss: 0.0030 - val_mae: 0.0531\n",
      "Epoch 78/150\n",
      "1/1 [==============================] - 0s 83ms/step - loss: 0.0011 - mae: 0.0286 - val_loss: 2.2629e-04 - val_mae: 0.0112\n",
      "Epoch 79/150\n",
      "1/1 [==============================] - 0s 89ms/step - loss: 0.0012 - mae: 0.0292 - val_loss: 0.0030 - val_mae: 0.0535\n",
      "Epoch 80/150\n",
      "1/1 [==============================] - 0s 100ms/step - loss: 0.0011 - mae: 0.0281 - val_loss: 1.4349e-04 - val_mae: 0.0084\n",
      "Epoch 81/150\n",
      "1/1 [==============================] - 0s 85ms/step - loss: 0.0011 - mae: 0.0270 - val_loss: 0.0026 - val_mae: 0.0500\n",
      "Epoch 82/150\n",
      "1/1 [==============================] - 0s 87ms/step - loss: 8.9797e-04 - mae: 0.0252 - val_loss: 1.6142e-04 - val_mae: 0.0084\n",
      "Epoch 83/150\n",
      "1/1 [==============================] - 0s 89ms/step - loss: 9.4094e-04 - mae: 0.0249 - val_loss: 0.0025 - val_mae: 0.0482\n",
      "Epoch 84/150\n",
      "1/1 [==============================] - 0s 109ms/step - loss: 8.9288e-04 - mae: 0.0248 - val_loss: 2.5109e-04 - val_mae: 0.0113\n",
      "Epoch 85/150\n",
      "1/1 [==============================] - 0s 85ms/step - loss: 9.4642e-04 - mae: 0.0249 - val_loss: 0.0023 - val_mae: 0.0457\n",
      "Epoch 86/150\n",
      "1/1 [==============================] - 0s 90ms/step - loss: 8.3804e-04 - mae: 0.0239 - val_loss: 3.3123e-04 - val_mae: 0.0133\n",
      "Epoch 87/150\n",
      "1/1 [==============================] - 0s 92ms/step - loss: 9.3133e-04 - mae: 0.0249 - val_loss: 0.0024 - val_mae: 0.0452\n",
      "Epoch 88/150\n",
      "1/1 [==============================] - 0s 93ms/step - loss: 9.5637e-04 - mae: 0.0256 - val_loss: 5.3012e-04 - val_mae: 0.0187\n",
      "Epoch 89/150\n",
      "1/1 [==============================] - 0s 87ms/step - loss: 0.0012 - mae: 0.0275 - val_loss: 0.0026 - val_mae: 0.0461\n",
      "Epoch 90/150\n",
      "1/1 [==============================] - 0s 85ms/step - loss: 0.0011 - mae: 0.0274 - val_loss: 5.3598e-04 - val_mae: 0.0191\n",
      "Epoch 91/150\n",
      "1/1 [==============================] - 0s 86ms/step - loss: 0.0012 - mae: 0.0271 - val_loss: 0.0026 - val_mae: 0.0482\n",
      "Epoch 92/150\n",
      "1/1 [==============================] - 0s 92ms/step - loss: 0.0010 - mae: 0.0267 - val_loss: 2.9776e-04 - val_mae: 0.0129\n",
      "Epoch 93/150\n",
      "1/1 [==============================] - 0s 105ms/step - loss: 0.0011 - mae: 0.0262 - val_loss: 0.0029 - val_mae: 0.0520\n",
      "Epoch 94/150\n",
      "1/1 [==============================] - 0s 82ms/step - loss: 0.0011 - mae: 0.0279 - val_loss: 2.3930e-04 - val_mae: 0.0115\n",
      "Epoch 95/150\n",
      "1/1 [==============================] - 0s 113ms/step - loss: 0.0012 - mae: 0.0287 - val_loss: 0.0029 - val_mae: 0.0532\n",
      "Epoch 96/150\n",
      "1/1 [==============================] - 0s 104ms/step - loss: 0.0011 - mae: 0.0280 - val_loss: 1.4127e-04 - val_mae: 0.0084\n",
      "Epoch 97/150\n",
      "1/1 [==============================] - 0s 86ms/step - loss: 0.0010 - mae: 0.0268 - val_loss: 0.0026 - val_mae: 0.0501\n",
      "Epoch 98/150\n",
      "1/1 [==============================] - 0s 86ms/step - loss: 9.0040e-04 - mae: 0.0252 - val_loss: 1.6116e-04 - val_mae: 0.0086\n",
      "Epoch 99/150\n",
      "1/1 [==============================] - 0s 83ms/step - loss: 9.4630e-04 - mae: 0.0250 - val_loss: 0.0025 - val_mae: 0.0478\n",
      "Epoch 100/150\n",
      "1/1 [==============================] - 0s 80ms/step - loss: 8.7969e-04 - mae: 0.0245 - val_loss: 2.4670e-04 - val_mae: 0.0113\n",
      "Epoch 101/150\n",
      "1/1 [==============================] - 0s 94ms/step - loss: 9.2735e-04 - mae: 0.0246 - val_loss: 0.0023 - val_mae: 0.0455\n",
      "Epoch 102/150\n",
      "1/1 [==============================] - 0s 83ms/step - loss: 8.0580e-04 - mae: 0.0235 - val_loss: 2.9873e-04 - val_mae: 0.0126\n",
      "Epoch 103/150\n",
      "1/1 [==============================] - 0s 89ms/step - loss: 8.7851e-04 - mae: 0.0241 - val_loss: 0.0023 - val_mae: 0.0449\n",
      "Epoch 104/150\n",
      "1/1 [==============================] - 0s 100ms/step - loss: 8.9874e-04 - mae: 0.0249 - val_loss: 4.9724e-04 - val_mae: 0.0180\n",
      "Epoch 105/150\n",
      "1/1 [==============================] - 0s 94ms/step - loss: 0.0011 - mae: 0.0268 - val_loss: 0.0025 - val_mae: 0.0454\n",
      "Epoch 106/150\n",
      "1/1 [==============================] - 0s 113ms/step - loss: 0.0011 - mae: 0.0271 - val_loss: 5.6777e-04 - val_mae: 0.0200\n",
      "Epoch 107/150\n",
      "1/1 [==============================] - 0s 99ms/step - loss: 0.0012 - mae: 0.0271 - val_loss: 0.0026 - val_mae: 0.0479\n",
      "Epoch 108/150\n",
      "1/1 [==============================] - 0s 98ms/step - loss: 0.0010 - mae: 0.0266 - val_loss: 2.9447e-04 - val_mae: 0.0131\n",
      "Epoch 109/150\n",
      "1/1 [==============================] - 0s 94ms/step - loss: 0.0011 - mae: 0.0256 - val_loss: 0.0027 - val_mae: 0.0503\n",
      "Epoch 110/150\n",
      "1/1 [==============================] - 0s 89ms/step - loss: 9.9732e-04 - mae: 0.0269 - val_loss: 2.3785e-04 - val_mae: 0.0117\n",
      "Epoch 111/150\n",
      "1/1 [==============================] - 0s 86ms/step - loss: 0.0011 - mae: 0.0277 - val_loss: 0.0029 - val_mae: 0.0529\n",
      "Epoch 112/150\n",
      "1/1 [==============================] - 0s 110ms/step - loss: 0.0011 - mae: 0.0279 - val_loss: 1.5676e-04 - val_mae: 0.0092\n",
      "Epoch 113/150\n",
      "1/1 [==============================] - 0s 95ms/step - loss: 0.0011 - mae: 0.0270 - val_loss: 0.0026 - val_mae: 0.0496\n",
      "Epoch 114/150\n",
      "1/1 [==============================] - 0s 120ms/step - loss: 8.7257e-04 - mae: 0.0250 - val_loss: 1.3332e-04 - val_mae: 0.0079\n",
      "Epoch 115/150\n",
      "1/1 [==============================] - 0s 92ms/step - loss: 8.9395e-04 - mae: 0.0243 - val_loss: 0.0025 - val_mae: 0.0485\n",
      "Epoch 116/150\n",
      "1/1 [==============================] - 0s 100ms/step - loss: 8.8694e-04 - mae: 0.0248 - val_loss: 2.4273e-04 - val_mae: 0.0113\n",
      "Epoch 117/150\n",
      "1/1 [==============================] - 0s 97ms/step - loss: 9.3937e-04 - mae: 0.0248 - val_loss: 0.0023 - val_mae: 0.0451\n",
      "Epoch 118/150\n",
      "1/1 [==============================] - 0s 83ms/step - loss: 7.9838e-04 - mae: 0.0233 - val_loss: 3.0965e-04 - val_mae: 0.0126\n",
      "Epoch 119/150\n",
      "1/1 [==============================] - 0s 85ms/step - loss: 8.3330e-04 - mae: 0.0234 - val_loss: 0.0021 - val_mae: 0.0431\n",
      "Epoch 120/150\n",
      "1/1 [==============================] - 0s 107ms/step - loss: 7.9839e-04 - mae: 0.0233 - val_loss: 4.6507e-04 - val_mae: 0.0173\n",
      "Epoch 121/150\n",
      "1/1 [==============================] - 0s 87ms/step - loss: 9.4613e-04 - mae: 0.0250 - val_loss: 0.0023 - val_mae: 0.0434\n",
      "Epoch 122/150\n",
      "1/1 [==============================] - 0s 82ms/step - loss: 9.9162e-04 - mae: 0.0257 - val_loss: 5.9335e-04 - val_mae: 0.0207\n",
      "Epoch 123/150\n",
      "1/1 [==============================] - 0s 88ms/step - loss: 0.0011 - mae: 0.0264 - val_loss: 0.0024 - val_mae: 0.0450\n",
      "Epoch 124/150\n",
      "1/1 [==============================] - 0s 115ms/step - loss: 9.6485e-04 - mae: 0.0256 - val_loss: 3.9045e-04 - val_mae: 0.0165\n",
      "Epoch 125/150\n",
      "1/1 [==============================] - 0s 130ms/step - loss: 0.0010 - mae: 0.0245 - val_loss: 0.0025 - val_mae: 0.0487\n",
      "Epoch 126/150\n",
      "1/1 [==============================] - 0s 90ms/step - loss: 9.3613e-04 - mae: 0.0260 - val_loss: 2.4489e-04 - val_mae: 0.0119\n",
      "Epoch 127/150\n",
      "1/1 [==============================] - 0s 87ms/step - loss: 0.0011 - mae: 0.0265 - val_loss: 0.0029 - val_mae: 0.0522\n",
      "Epoch 128/150\n",
      "1/1 [==============================] - 0s 92ms/step - loss: 0.0011 - mae: 0.0277 - val_loss: 1.6902e-04 - val_mae: 0.0096\n",
      "Epoch 129/150\n",
      "1/1 [==============================] - 0s 89ms/step - loss: 0.0011 - mae: 0.0271 - val_loss: 0.0026 - val_mae: 0.0506\n",
      "Epoch 130/150\n",
      "1/1 [==============================] - 0s 285ms/step - loss: 9.1773e-04 - mae: 0.0257 - val_loss: 1.2909e-04 - val_mae: 0.0077\n",
      "Epoch 131/150\n",
      "1/1 [==============================] - 0s 126ms/step - loss: 8.9946e-04 - mae: 0.0244 - val_loss: 0.0024 - val_mae: 0.0475\n",
      "Epoch 132/150\n",
      "1/1 [==============================] - 0s 131ms/step - loss: 8.2269e-04 - mae: 0.0239 - val_loss: 2.2929e-04 - val_mae: 0.0109\n",
      "Epoch 133/150\n",
      "1/1 [==============================] - 0s 104ms/step - loss: 8.8298e-04 - mae: 0.0239 - val_loss: 0.0022 - val_mae: 0.0448\n",
      "Epoch 134/150\n",
      "1/1 [==============================] - 0s 133ms/step - loss: 7.7854e-04 - mae: 0.0229 - val_loss: 2.7517e-04 - val_mae: 0.0119\n",
      "Epoch 135/150\n",
      "1/1 [==============================] - 0s 101ms/step - loss: 8.0101e-04 - mae: 0.0228 - val_loss: 0.0021 - val_mae: 0.0431\n",
      "Epoch 136/150\n",
      "1/1 [==============================] - 0s 97ms/step - loss: 7.5008e-04 - mae: 0.0226 - val_loss: 3.9848e-04 - val_mae: 0.0157\n",
      "Epoch 137/150\n",
      "1/1 [==============================] - 0s 105ms/step - loss: 8.8230e-04 - mae: 0.0241 - val_loss: 0.0023 - val_mae: 0.0439\n",
      "Epoch 138/150\n",
      "1/1 [==============================] - 0s 85ms/step - loss: 9.5727e-04 - mae: 0.0254 - val_loss: 5.8639e-04 - val_mae: 0.0204\n",
      "Epoch 139/150\n",
      "1/1 [==============================] - 0s 87ms/step - loss: 0.0011 - mae: 0.0269 - val_loss: 0.0024 - val_mae: 0.0447\n",
      "Epoch 140/150\n",
      "1/1 [==============================] - 0s 82ms/step - loss: 0.0010 - mae: 0.0260 - val_loss: 4.4228e-04 - val_mae: 0.0178\n",
      "Epoch 141/150\n",
      "1/1 [==============================] - 0s 84ms/step - loss: 0.0011 - mae: 0.0251 - val_loss: 0.0026 - val_mae: 0.0489\n",
      "Epoch 142/150\n",
      "1/1 [==============================] - 0s 84ms/step - loss: 9.4598e-04 - mae: 0.0262 - val_loss: 2.3779e-04 - val_mae: 0.0115\n",
      "Epoch 143/150\n",
      "1/1 [==============================] - 0s 81ms/step - loss: 0.0011 - mae: 0.0265 - val_loss: 0.0027 - val_mae: 0.0508\n",
      "Epoch 144/150\n",
      "1/1 [==============================] - 0s 98ms/step - loss: 0.0010 - mae: 0.0269 - val_loss: 1.8926e-04 - val_mae: 0.0105\n",
      "Epoch 145/150\n",
      "1/1 [==============================] - 0s 108ms/step - loss: 0.0011 - mae: 0.0271 - val_loss: 0.0028 - val_mae: 0.0520\n",
      "Epoch 146/150\n",
      "1/1 [==============================] - 0s 120ms/step - loss: 9.8974e-04 - mae: 0.0267 - val_loss: 1.2349e-04 - val_mae: 0.0075\n",
      "Epoch 147/150\n",
      "1/1 [==============================] - 0s 89ms/step - loss: 9.1833e-04 - mae: 0.0249 - val_loss: 0.0023 - val_mae: 0.0470\n",
      "Epoch 148/150\n",
      "1/1 [==============================] - 0s 83ms/step - loss: 7.7109e-04 - mae: 0.0232 - val_loss: 2.0717e-04 - val_mae: 0.0103\n",
      "Epoch 149/150\n",
      "1/1 [==============================] - 0s 98ms/step - loss: 7.8266e-04 - mae: 0.0224 - val_loss: 0.0021 - val_mae: 0.0437\n",
      "Epoch 150/150\n",
      "1/1 [==============================] - 0s 112ms/step - loss: 7.2332e-04 - mae: 0.0220 - val_loss: 3.0829e-04 - val_mae: 0.0128\n"
     ]
    }
   ],
   "source": [
    "\n",
    "history = model.fit(stimuli_data_array, response_data_array,\n",
    "              batch_size=batch_size,\n",
    "              epochs=epochs,\n",
    "              verbose = True,\n",
    "              validation_split= validation_split,\n",
    "              shuffle=True)"
   ]
  },
  {
   "cell_type": "code",
   "execution_count": 171,
   "metadata": {},
   "outputs": [
    {
     "data": {
      "image/png": "[encoded data removed]",
      "text/plain": [
       "<Figure size 432x288 with 1 Axes>"
      ]
     },
     "metadata": {
      "needs_background": "light"
     },
     "output_type": "display_data"
    }
   ],
   "source": [
    "def plot_history(history):\n",
    "  plt.figure()\n",
    "  plt.plot(history.epoch, np.array(history.history['mae']),\n",
    "           label='Train Loss')\n",
    "  plt.plot(history.epoch, np.array(history.history['val_mae']),\n",
    "           label = 'Val loss')\n",
    "  plt.legend()\n",
    "  plt.ylim([0, 5])\n",
    "\n",
    "plot_history(history)"
   ]
  },
  {
   "cell_type": "code",
   "execution_count": 172,
   "metadata": {},
   "outputs": [
    {
     "name": "stdout",
     "output_type": "stream",
     "text": [
      "32/32 [==============================] - 0s 6ms/step\n",
      "(999, 1)\n",
      "Prediction\n"
     ]
    },
    {
     "data": {
      "image/png": "[encoded data removed]",
      "text/plain": [
       "<Figure size 432x288 with 1 Axes>"
      ]
     },
     "metadata": {
      "needs_background": "light"
     },
     "output_type": "display_data"
    },
    {
     "name": "stdout",
     "output_type": "stream",
     "text": [
      "GT\n"
     ]
    },
    {
     "data": {
      "image/png": "[encoded data removed]",
      "text/plain": [
       "<Figure size 432x288 with 1 Axes>"
      ]
     },
     "metadata": {
      "needs_background": "light"
     },
     "output_type": "display_data"
    }
   ],
   "source": [
    "prediction = model.predict(stimuli_data_array[0,:,:])[:,:,0]\n",
    "print(prediction.shape)\n",
    "print('Prediction')\n",
    "plt.plot(prediction)\n",
    "plt.show()\n",
    "print('GT')\n",
    "plt.plot(stimuli_data_array[0,:,:])\n",
    "plt.show()\n"
   ]
  },
  {
   "cell_type": "code",
   "execution_count": null,
   "metadata": {},
   "outputs": [],
   "source": []
  },
  {
   "cell_type": "code",
   "execution_count": null,
   "metadata": {},
   "outputs": [],
   "source": []
  }
 ],
 "metadata": {
  "kernelspec": {
   "display_name": "Python 3.9.0 ('naparienv')",
   "language": "python",
   "name": "python3"
  },
  "language_info": {
   "codemirror_mode": {
    "name": "ipython",
    "version": 3
   },
   "file_extension": ".py",
   "mimetype": "text/x-python",
   "name": "python",
   "nbconvert_exporter": "python",
   "pygments_lexer": "ipython3",
   "version": "3.9.0"
  },
  "orig_nbformat": 4,
  "vscode": {
   "interpreter": {
    "hash": "e140276ae15c1be7b597ddfede76c3757c35dc6a4240f18994000df39384733e"
   }
  }
 },
 "nbformat": 4,
 "nbformat_minor": 2
}
