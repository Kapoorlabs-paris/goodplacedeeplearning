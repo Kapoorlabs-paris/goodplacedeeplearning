{
 "cells": [
  {
   "cell_type": "code",
   "execution_count": 2,
   "id": "09e65397",
   "metadata": {},
   "outputs": [
    {
     "name": "stdout",
     "output_type": "stream",
     "text": [
      "class <class 'oneat.NEATModels.neat_faststandard.NEATSynamic'> name Cellsplitdetectorxenopus\n",
      "Found model 'Cellsplitdetectorxenopus' for 'NEATSynamic'.\n"
     ]
    }
   ],
   "source": [
    "import os\n",
    "from pathlib import Path\n",
    "os.getcwd()\n",
    "from tifffile import imread\n",
    "from oneat.NEATModels import NEATSynamic\n",
    "from oneat.pretrained import  get_model_folder\n",
    "from oneat.NEATModels.config import dynamic_config\n",
    "from oneat.NEATUtils import helpers\n",
    "from oneat import test_image_xenopus\n",
    "from oneat.NEATUtils.helpers import load_json\n",
    "example_directory = os.getcwd() + '/hela_example_xenopus_nosegmentation/'\n",
    "results_directory = example_directory + '/Results_xenopus_nosegmentation/'\n",
    "Path(example_directory).mkdir(exist_ok=True)\n",
    "Path(results_directory).mkdir(exist_ok=True)\n",
    "model = NEATSynamic.local_from_pretrained(example_directory,'Cellsplitdetectorxenopus')\n",
    "\n"
   ]
  },
  {
   "cell_type": "code",
   "execution_count": 4,
   "id": "3cb93056",
   "metadata": {},
   "outputs": [
    {
     "name": "stdout",
     "output_type": "stream",
     "text": [
      "Downloading data from https://zenodo.org/record/6484966/files/C1-for_oneat_prediction.tif\n",
      "2230886400/2230882483 [==============================] - 298s 0us/step\n",
      "2230894592/2230882483 [==============================] - 298s 0us/step\n",
      "C:\\Users\\rando\\.keras\\datasets\\xenopus\n"
     ]
    }
   ],
   "source": [
    "imagename = test_image_xenopus(example_directory)\n",
    "print(Path(imagename))"
   ]
  },
  {
   "cell_type": "code",
   "execution_count": 5,
   "id": "e519d0cf",
   "metadata": {},
   "outputs": [
    {
     "name": "stdout",
     "output_type": "stream",
     "text": [
      "Image (41, 22, 1112, 1112) is 4 dimensional, projecting around the center 11 - 4 to 11 + 1\n",
      "C:\\Users\\rando\\Downloads\\CAPED-AI-oneat\\Demo/hela_example_xenopus_nosegmentation/ Cellsplitdetectorxenopus {'Normal': 0, 'Division': 1} {'x': 0, 'y': 1, 't': 2, 'h': 3, 'w': 4, 'c': 5}\n",
      "Detecting event locations\n"
     ]
    },
    {
     "name": "stderr",
     "output_type": "stream",
     "text": [
      "100%|██████████████████████████████████████████████████████████████████████████████████| 41/41 [57:20<00:00, 83.91s/it]\n"
     ]
    }
   ],
   "source": [
    "n_tiles = (4,4)\n",
    "event_threshold = 0.999\n",
    "event_confidence = 0.9\n",
    "iou_threshold = 0.1\n",
    "fidelity = 4\n",
    "downsamplefactor = 1\n",
    "start_project_mid = 4\n",
    "end_project_mid = 1\n",
    "model.predict_synamic(imagename,\n",
    "                           results_directory, \n",
    "                           n_tiles = n_tiles, \n",
    "                           event_threshold = event_threshold, \n",
    "                           event_confidence = event_confidence,\n",
    "                           iou_threshold = iou_threshold,\n",
    "                           fidelity = fidelity,\n",
    "                           downsamplefactor = downsamplefactor,\n",
    "                           start_project_mid = start_project_mid,\n",
    "                           end_project_mid = end_project_mid )"
   ]
  },
  {
   "cell_type": "code",
   "execution_count": 6,
   "id": "fe6c44e2",
   "metadata": {},
   "outputs": [
    {
     "data": {
      "image/png": "[encoded data removed]",
      "text/plain": [
       "<Figure size 288x288 with 1 Axes>"
      ]
     },
     "metadata": {
      "needs_background": "light"
     },
     "output_type": "display_data"
    }
   ],
   "source": [
    "from oneat.NEATUtils import NEATViz\n",
    "\n",
    "imagedir = example_directory\n",
    "heatmapdir = results_directory\n",
    "csvdir = heatmapdir\n",
    "categories_json = example_directory + 'Cellsplitcategoriesxenopus.json'\n",
    "fileextension = '*tif'\n",
    "thresh = 1 - 1.0E-6\n",
    "\n",
    "event_threshold = [thresh, thresh]\n",
    "Vizdetections = NEATViz(imagedir, \n",
    "                        heatmapdir, \n",
    "                        csvdir, \n",
    "                        categories_json,  \n",
    "                        event_threshold, \n",
    "                        fileextension = fileextension,\n",
    "                        start_project_mid = start_project_mid,\n",
    "                        end_project_mid = end_project_mid)"
   ]
  },
  {
   "cell_type": "code",
   "execution_count": null,
   "id": "37aa021e",
   "metadata": {},
   "outputs": [],
   "source": []
  }
 ],
 "metadata": {
  "kernelspec": {
   "display_name": "Python 3 (ipykernel)",
   "language": "python",
   "name": "python3"
  },
  "language_info": {
   "codemirror_mode": {
    "name": "ipython",
    "version": 3
   },
   "file_extension": ".py",
   "mimetype": "text/x-python",
   "name": "python",
   "nbconvert_exporter": "python",
   "pygments_lexer": "ipython3",
   "version": "3.9.0"
  }
 },
 "nbformat": 4,
 "nbformat_minor": 5
}
